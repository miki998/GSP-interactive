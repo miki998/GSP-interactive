{
 "cells": [
  {
   "cell_type": "code",
   "execution_count": 6,
   "metadata": {},
   "outputs": [],
   "source": [
    "import pandas as pd"
   ]
  },
  {
   "cell_type": "code",
   "execution_count": 9,
   "metadata": {},
   "outputs": [],
   "source": [
    "eg = {'Source': [1,2,3,4,5,7],'Target': [3,2,4,5,6,6]}\n",
    "df = pd.DataFrame.from_dict(eg)"
   ]
  },
  {
   "cell_type": "code",
   "execution_count": 11,
   "metadata": {},
   "outputs": [],
   "source": [
    "df.to_csv('data.csv', index=False)"
   ]
  },
  {
   "cell_type": "code",
   "execution_count": 14,
   "metadata": {},
   "outputs": [],
   "source": [
    "import networkx as nx"
   ]
  },
  {
   "cell_type": "code",
   "execution_count": 15,
   "metadata": {},
   "outputs": [],
   "source": [
    "A = list(df[\"Source\"].unique())\n",
    "B = list(df[\"Target\"].unique())\n",
    "node_list = set(A+B)\n",
    "G = nx.Graph() #Use the Graph API to create an empty network graph object\n",
    "\n",
    "#Add nodes and edges to the graph object\n",
    "for i in node_list:\n",
    "    G.add_node(i)\n",
    "for i,j in df.iterrows():\n",
    "    G.add_edges_from([(j[\"Source\"],j[\"Target\"])])"
   ]
  },
  {
   "cell_type": "code",
   "execution_count": null,
   "metadata": {},
   "outputs": [],
   "source": []
  }
 ],
 "metadata": {
  "kernelspec": {
   "display_name": "dGSP",
   "language": "python",
   "name": "python3"
  },
  "language_info": {
   "codemirror_mode": {
    "name": "ipython",
    "version": 3
   },
   "file_extension": ".py",
   "mimetype": "text/x-python",
   "name": "python",
   "nbconvert_exporter": "python",
   "pygments_lexer": "ipython3",
   "version": "3.8.18"
  }
 },
 "nbformat": 4,
 "nbformat_minor": 2
}
