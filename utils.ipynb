{
 "cells": [
  {
   "cell_type": "code",
   "execution_count": 6,
   "metadata": {},
   "outputs": [],
   "source": [
    "import pandas as pd"
   ]
  },
  {
   "cell_type": "code",
   "execution_count": 9,
   "metadata": {},
   "outputs": [],
   "source": [
    "eg = {'Source': [1,2,3,4,5,7],'Target': [3,2,4,5,6,6]}\n",
    "df = pd.DataFrame.from_dict(eg)"
   ]
  },
  {
   "cell_type": "code",
   "execution_count": 11,
   "metadata": {},
   "outputs": [],
   "source": [
    "df.to_csv('data.csv', index=False)"
   ]
  },
  {
   "cell_type": "code",
   "execution_count": 1,
   "metadata": {},
   "outputs": [],
   "source": [
    "from src import *"
   ]
  },
  {
   "cell_type": "markdown",
   "metadata": {},
   "source": [
    "## Creating demo signals and graphs"
   ]
  },
  {
   "cell_type": "markdown",
   "metadata": {},
   "source": [
    "### Example 1: USA graph Static signal"
   ]
  },
  {
   "cell_type": "code",
   "execution_count": 25,
   "metadata": {},
   "outputs": [],
   "source": [
    "A = load('./resources/demo_data/usa_graph/diag_usagraph.pkl')\n",
    "pos = load('./resources/demo_data/usa_graph/state_coords.pkl')\n",
    "signal = np.random.random(A.shape[0])\n",
    "save('./resources/demo_data/usa_graph/interactivepack_usa_static.pkl', (A,pos,signal))"
   ]
  },
  {
   "cell_type": "markdown",
   "metadata": {},
   "source": [
    "### Example 2: USA graph Dynamic signal"
   ]
  },
  {
   "cell_type": "code",
   "execution_count": 121,
   "metadata": {},
   "outputs": [],
   "source": [
    "A = load('./resources/demo_data/usa_graph/diag_usagraph.pkl')\n",
    "pos = load('./resources/demo_data/usa_graph/state_coords.pkl')\n",
    "\n",
    "np.random.seed(99)\n",
    "signal = np.random.random(A.shape[0])\n",
    "Anorm = operations.normalize_adjacency(A)\n",
    "iterations = [signal]\n",
    "for _ in range(30):\n",
    "    iterations.append(Anorm @ iterations[-1])\n",
    "iterations = np.array(iterations)\n",
    "\n",
    "save('./resources/demo_data/usa_graph/interactivepack_usa_dynamic.pkl', (A, pos, iterations))"
   ]
  },
  {
   "cell_type": "markdown",
   "metadata": {},
   "source": [
    "### Example 3: Macaque brain graph Static signal"
   ]
  },
  {
   "cell_type": "code",
   "execution_count": 129,
   "metadata": {},
   "outputs": [],
   "source": [
    "signals, A, pos, labels = load('./resources/demo_data/macaque_data/macaque_gsp_data.pkl')\n",
    "pos = {k: tuple(pos[k]) for k in range(len(pos))}\n",
    "save('./resources/demo_data/macaque_data/interactivepack_macaque_static.pkl', (A, pos, signals[0][0]))"
   ]
  },
  {
   "cell_type": "markdown",
   "metadata": {},
   "source": [
    "### Example 4: Macaque brain graph Dynamic signal"
   ]
  },
  {
   "cell_type": "code",
   "execution_count": 137,
   "metadata": {},
   "outputs": [],
   "source": [
    "signals, A, pos, labels = load('./resources/demo_data/macaque_data/macaque_gsp_data.pkl')\n",
    "pos = {k: tuple(pos[k]) for k in range(len(pos))}\n",
    "save('./resources/demo_data/macaque_data/interactivepack_macaque_dynamic.pkl', (A, pos, signals[0][:100]))"
   ]
  },
  {
   "cell_type": "code",
   "execution_count": 138,
   "metadata": {},
   "outputs": [],
   "source": [
    "x,y = np.meshgrid(np.arange(0, 2, .2), np.arange(0, 2, .2))"
   ]
  },
  {
   "cell_type": "code",
   "execution_count": 142,
   "metadata": {},
   "outputs": [
    {
     "data": {
      "text/plain": [
       "array([[0. , 0.2, 0.4, 0.6, 0.8, 1. , 1.2, 1.4, 1.6, 1.8],\n",
       "       [0. , 0.2, 0.4, 0.6, 0.8, 1. , 1.2, 1.4, 1.6, 1.8],\n",
       "       [0. , 0.2, 0.4, 0.6, 0.8, 1. , 1.2, 1.4, 1.6, 1.8],\n",
       "       [0. , 0.2, 0.4, 0.6, 0.8, 1. , 1.2, 1.4, 1.6, 1.8],\n",
       "       [0. , 0.2, 0.4, 0.6, 0.8, 1. , 1.2, 1.4, 1.6, 1.8],\n",
       "       [0. , 0.2, 0.4, 0.6, 0.8, 1. , 1.2, 1.4, 1.6, 1.8],\n",
       "       [0. , 0.2, 0.4, 0.6, 0.8, 1. , 1.2, 1.4, 1.6, 1.8],\n",
       "       [0. , 0.2, 0.4, 0.6, 0.8, 1. , 1.2, 1.4, 1.6, 1.8],\n",
       "       [0. , 0.2, 0.4, 0.6, 0.8, 1. , 1.2, 1.4, 1.6, 1.8],\n",
       "       [0. , 0.2, 0.4, 0.6, 0.8, 1. , 1.2, 1.4, 1.6, 1.8]])"
      ]
     },
     "execution_count": 142,
     "metadata": {},
     "output_type": "execute_result"
    }
   ],
   "source": [
    "x"
   ]
  },
  {
   "cell_type": "code",
   "execution_count": null,
   "metadata": {},
   "outputs": [],
   "source": []
  }
 ],
 "metadata": {
  "kernelspec": {
   "display_name": "dGSP",
   "language": "python",
   "name": "python3"
  },
  "language_info": {
   "codemirror_mode": {
    "name": "ipython",
    "version": 3
   },
   "file_extension": ".py",
   "mimetype": "text/x-python",
   "name": "python",
   "nbconvert_exporter": "python",
   "pygments_lexer": "ipython3",
   "version": "3.8.18"
  }
 },
 "nbformat": 4,
 "nbformat_minor": 2
}
